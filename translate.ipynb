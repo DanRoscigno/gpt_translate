{
 "cells": [
  {
   "cell_type": "markdown",
   "metadata": {},
   "source": [
    "# Simple Example"
   ]
  },
  {
   "cell_type": "markdown",
   "metadata": {},
   "source": [
    "Let's load our quickstart and translate to spanish"
   ]
  },
  {
   "cell_type": "code",
   "execution_count": 1,
   "metadata": {},
   "outputs": [],
   "source": [
    "from pathlib import Path"
   ]
  },
  {
   "cell_type": "code",
   "execution_count": 2,
   "metadata": {},
   "outputs": [],
   "source": [
    "config_folder = Path(\"configs\")\n",
    "md_file = Path(\"docs/quickstart.md\")"
   ]
  },
  {
   "cell_type": "code",
   "execution_count": 3,
   "metadata": {},
   "outputs": [],
   "source": [
    "from gpt_translate.translate import Translator"
   ]
  },
  {
   "cell_type": "code",
   "execution_count": 4,
   "metadata": {},
   "outputs": [
    {
     "name": "stdout",
     "output_type": "stream",
     "text": [
      "Model args: {'model': 'gpt-4', 'temperature': 0.7}\n"
     ]
    }
   ],
   "source": [
    "t = Translator(config_folder, language=\"es\", max_chunk_tokens=400)"
   ]
  },
  {
   "cell_type": "code",
   "execution_count": 5,
   "metadata": {},
   "outputs": [
    {
     "name": "stdout",
     "output_type": "stream",
     "text": [
      "Packing chunk 0 with 33 tokens\n",
      "Packing chunk 1 with 17 tokens\n",
      "Packing chunk 2 with 251 tokens\n",
      ">> Translating 301 tokens\n",
      "Packing chunk 3 with 190 tokens\n",
      "Packing chunk 4 with 178 tokens\n",
      ">> Translating 368 tokens\n",
      "Packing chunk 5 with 380 tokens\n",
      ">> Translating 380 tokens\n",
      "Packing chunk 6 with 199 tokens\n",
      ">> Translating 199 tokens\n",
      "Packing chunk 7 with 244 tokens\n",
      ">> Translating 244 tokens (last chunk)\n",
      "Function translate_splitted_md took 195.9684 seconds to execute.\n"
     ]
    }
   ],
   "source": [
    "es_quickstart = t.translate_file(md_file)"
   ]
  }
 ],
 "metadata": {
  "kernelspec": {
   "display_name": "openai",
   "language": "python",
   "name": "python3"
  },
  "language_info": {
   "codemirror_mode": {
    "name": "ipython",
    "version": 3
   },
   "file_extension": ".py",
   "mimetype": "text/x-python",
   "name": "python",
   "nbconvert_exporter": "python",
   "pygments_lexer": "ipython3",
   "version": "3.12.0"
  }
 },
 "nbformat": 4,
 "nbformat_minor": 2
}
